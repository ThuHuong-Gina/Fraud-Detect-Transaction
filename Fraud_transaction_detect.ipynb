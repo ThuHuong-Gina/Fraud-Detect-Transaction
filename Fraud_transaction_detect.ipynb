{
  "cells": [
    {
      "cell_type": "markdown",
      "metadata": {
        "id": "IVVwgn7XM2vV"
      },
      "source": [
        "#   **1. Prepare: import libraries**"
      ]
    },
    {
      "cell_type": "code",
      "execution_count": null,
      "metadata": {
        "id": "r0lh74IxWP-k"
      },
      "outputs": [],
      "source": [
        "# Import libraries\n",
        "import numpy as np\n",
        "import pandas as pd\n",
        "import sklearn\n",
        "import matplotlib.pyplot as plt\n",
        "import seaborn as sns\n",
        "sns.set()\n",
        "\n",
        "from sklearn import preprocessing\n",
        "from sklearn.preprocessing import StandardScaler\n",
        "scaler=StandardScaler()\n",
        "from sklearn import metrics\n",
        "from sklearn.metrics import classification_report, confusion_matrix, roc_curve, roc_auc_score\n",
        "from sklearn.linear_model import Ridge, Lasso, LogisticRegression\n",
        "from sklearn.neighbors import KNeighborsClassifier\n",
        "from sklearn.tree import DecisionTreeClassifier\n",
        "from sklearn. ensemble import RandomForestClassifier\n",
        "from sklearn.model_selection import KFold,cross_val_score, train_test_split\n",
        "\n",
        "!pip install pandas_profiling\n",
        "from pandas_profiling import ProfileReport"
      ]
    },
    {
      "cell_type": "markdown",
      "metadata": {
        "id": "tUvnGUWCNEPJ"
      },
      "source": [
        "## 1.1 Load dataset and checking info"
      ]
    },
    {
      "cell_type": "code",
      "execution_count": null,
      "metadata": {
        "colab": {
          "base_uri": "https://localhost:8080/",
          "height": 107
        },
        "id": "dObwNHHJ7gei",
        "outputId": "46c92642-29f7-40ff-b817-f8b3a3846d14"
      },
      "outputs": [
        {
          "output_type": "display_data",
          "data": {
            "text/plain": [
              "<IPython.core.display.HTML object>"
            ],
            "text/html": [
              "\n",
              "     <input type=\"file\" id=\"files-ff68aeb5-0e46-4f86-bc88-c2c0025d93a7\" name=\"files[]\" multiple disabled\n",
              "        style=\"border:none\" />\n",
              "     <output id=\"result-ff68aeb5-0e46-4f86-bc88-c2c0025d93a7\">\n",
              "      Upload widget is only available when the cell has been executed in the\n",
              "      current browser session. Please rerun this cell to enable.\n",
              "      </output>\n",
              "      <script>// Copyright 2017 Google LLC\n",
              "//\n",
              "// Licensed under the Apache License, Version 2.0 (the \"License\");\n",
              "// you may not use this file except in compliance with the License.\n",
              "// You may obtain a copy of the License at\n",
              "//\n",
              "//      http://www.apache.org/licenses/LICENSE-2.0\n",
              "//\n",
              "// Unless required by applicable law or agreed to in writing, software\n",
              "// distributed under the License is distributed on an \"AS IS\" BASIS,\n",
              "// WITHOUT WARRANTIES OR CONDITIONS OF ANY KIND, either express or implied.\n",
              "// See the License for the specific language governing permissions and\n",
              "// limitations under the License.\n",
              "\n",
              "/**\n",
              " * @fileoverview Helpers for google.colab Python module.\n",
              " */\n",
              "(function(scope) {\n",
              "function span(text, styleAttributes = {}) {\n",
              "  const element = document.createElement('span');\n",
              "  element.textContent = text;\n",
              "  for (const key of Object.keys(styleAttributes)) {\n",
              "    element.style[key] = styleAttributes[key];\n",
              "  }\n",
              "  return element;\n",
              "}\n",
              "\n",
              "// Max number of bytes which will be uploaded at a time.\n",
              "const MAX_PAYLOAD_SIZE = 100 * 1024;\n",
              "\n",
              "function _uploadFiles(inputId, outputId) {\n",
              "  const steps = uploadFilesStep(inputId, outputId);\n",
              "  const outputElement = document.getElementById(outputId);\n",
              "  // Cache steps on the outputElement to make it available for the next call\n",
              "  // to uploadFilesContinue from Python.\n",
              "  outputElement.steps = steps;\n",
              "\n",
              "  return _uploadFilesContinue(outputId);\n",
              "}\n",
              "\n",
              "// This is roughly an async generator (not supported in the browser yet),\n",
              "// where there are multiple asynchronous steps and the Python side is going\n",
              "// to poll for completion of each step.\n",
              "// This uses a Promise to block the python side on completion of each step,\n",
              "// then passes the result of the previous step as the input to the next step.\n",
              "function _uploadFilesContinue(outputId) {\n",
              "  const outputElement = document.getElementById(outputId);\n",
              "  const steps = outputElement.steps;\n",
              "\n",
              "  const next = steps.next(outputElement.lastPromiseValue);\n",
              "  return Promise.resolve(next.value.promise).then((value) => {\n",
              "    // Cache the last promise value to make it available to the next\n",
              "    // step of the generator.\n",
              "    outputElement.lastPromiseValue = value;\n",
              "    return next.value.response;\n",
              "  });\n",
              "}\n",
              "\n",
              "/**\n",
              " * Generator function which is called between each async step of the upload\n",
              " * process.\n",
              " * @param {string} inputId Element ID of the input file picker element.\n",
              " * @param {string} outputId Element ID of the output display.\n",
              " * @return {!Iterable<!Object>} Iterable of next steps.\n",
              " */\n",
              "function* uploadFilesStep(inputId, outputId) {\n",
              "  const inputElement = document.getElementById(inputId);\n",
              "  inputElement.disabled = false;\n",
              "\n",
              "  const outputElement = document.getElementById(outputId);\n",
              "  outputElement.innerHTML = '';\n",
              "\n",
              "  const pickedPromise = new Promise((resolve) => {\n",
              "    inputElement.addEventListener('change', (e) => {\n",
              "      resolve(e.target.files);\n",
              "    });\n",
              "  });\n",
              "\n",
              "  const cancel = document.createElement('button');\n",
              "  inputElement.parentElement.appendChild(cancel);\n",
              "  cancel.textContent = 'Cancel upload';\n",
              "  const cancelPromise = new Promise((resolve) => {\n",
              "    cancel.onclick = () => {\n",
              "      resolve(null);\n",
              "    };\n",
              "  });\n",
              "\n",
              "  // Wait for the user to pick the files.\n",
              "  const files = yield {\n",
              "    promise: Promise.race([pickedPromise, cancelPromise]),\n",
              "    response: {\n",
              "      action: 'starting',\n",
              "    }\n",
              "  };\n",
              "\n",
              "  cancel.remove();\n",
              "\n",
              "  // Disable the input element since further picks are not allowed.\n",
              "  inputElement.disabled = true;\n",
              "\n",
              "  if (!files) {\n",
              "    return {\n",
              "      response: {\n",
              "        action: 'complete',\n",
              "      }\n",
              "    };\n",
              "  }\n",
              "\n",
              "  for (const file of files) {\n",
              "    const li = document.createElement('li');\n",
              "    li.append(span(file.name, {fontWeight: 'bold'}));\n",
              "    li.append(span(\n",
              "        `(${file.type || 'n/a'}) - ${file.size} bytes, ` +\n",
              "        `last modified: ${\n",
              "            file.lastModifiedDate ? file.lastModifiedDate.toLocaleDateString() :\n",
              "                                    'n/a'} - `));\n",
              "    const percent = span('0% done');\n",
              "    li.appendChild(percent);\n",
              "\n",
              "    outputElement.appendChild(li);\n",
              "\n",
              "    const fileDataPromise = new Promise((resolve) => {\n",
              "      const reader = new FileReader();\n",
              "      reader.onload = (e) => {\n",
              "        resolve(e.target.result);\n",
              "      };\n",
              "      reader.readAsArrayBuffer(file);\n",
              "    });\n",
              "    // Wait for the data to be ready.\n",
              "    let fileData = yield {\n",
              "      promise: fileDataPromise,\n",
              "      response: {\n",
              "        action: 'continue',\n",
              "      }\n",
              "    };\n",
              "\n",
              "    // Use a chunked sending to avoid message size limits. See b/62115660.\n",
              "    let position = 0;\n",
              "    do {\n",
              "      const length = Math.min(fileData.byteLength - position, MAX_PAYLOAD_SIZE);\n",
              "      const chunk = new Uint8Array(fileData, position, length);\n",
              "      position += length;\n",
              "\n",
              "      const base64 = btoa(String.fromCharCode.apply(null, chunk));\n",
              "      yield {\n",
              "        response: {\n",
              "          action: 'append',\n",
              "          file: file.name,\n",
              "          data: base64,\n",
              "        },\n",
              "      };\n",
              "\n",
              "      let percentDone = fileData.byteLength === 0 ?\n",
              "          100 :\n",
              "          Math.round((position / fileData.byteLength) * 100);\n",
              "      percent.textContent = `${percentDone}% done`;\n",
              "\n",
              "    } while (position < fileData.byteLength);\n",
              "  }\n",
              "\n",
              "  // All done.\n",
              "  yield {\n",
              "    response: {\n",
              "      action: 'complete',\n",
              "    }\n",
              "  };\n",
              "}\n",
              "\n",
              "scope.google = scope.google || {};\n",
              "scope.google.colab = scope.google.colab || {};\n",
              "scope.google.colab._files = {\n",
              "  _uploadFiles,\n",
              "  _uploadFilesContinue,\n",
              "};\n",
              "})(self);\n",
              "</script> "
            ]
          },
          "metadata": {}
        },
        {
          "output_type": "stream",
          "name": "stdout",
          "text": [
            "Saving fraudTest.csv to fraudTest.csv\n",
            "Saving fraudTrain.csv to fraudTrain.csv\n"
          ]
        }
      ],
      "source": [
        "# Import file\n",
        "from google.colab import files\n",
        "uploaded = files.upload()"
      ]
    },
    {
      "cell_type": "code",
      "execution_count": null,
      "metadata": {
        "id": "yk0pfG2LLxoB"
      },
      "outputs": [],
      "source": [
        "fraud_train=pd.read_csv('fraudTrain.csv')\n",
        "fraud_test=pd.read_csv('fraudTest.csv')"
      ]
    },
    {
      "cell_type": "code",
      "execution_count": null,
      "metadata": {
        "id": "Ao1Gz--zMSdv"
      },
      "outputs": [],
      "source": [
        "# review DF\n",
        "fraud_train.head()"
      ]
    },
    {
      "cell_type": "code",
      "execution_count": null,
      "metadata": {
        "id": "MT-RTesuMmZX"
      },
      "outputs": [],
      "source": [
        "fraud_test.head()"
      ]
    },
    {
      "cell_type": "code",
      "execution_count": null,
      "metadata": {
        "id": "8kjmjVkKODbg"
      },
      "outputs": [],
      "source": [
        "#Checking shape of df fraud_train\n",
        "np.shape(fraud_train)"
      ]
    },
    {
      "cell_type": "code",
      "execution_count": null,
      "metadata": {
        "id": "PCnRHHa0QjN0"
      },
      "outputs": [],
      "source": [
        "# Checking info of fraud_train df\n",
        "fraud_train.info()"
      ]
    },
    {
      "cell_type": "code",
      "execution_count": null,
      "metadata": {
        "id": "mvBeYz-KQyry"
      },
      "outputs": [],
      "source": [
        "# Checking distribution of numerical values in fraud_train  df\n",
        "fraud_train.describe()"
      ]
    },
    {
      "cell_type": "code",
      "execution_count": null,
      "metadata": {
        "id": "8u1G5PoAPLl8"
      },
      "outputs": [],
      "source": [
        "# Checking shape of df fraud_test\n",
        "np.shape(fraud_test)"
      ]
    },
    {
      "cell_type": "code",
      "execution_count": null,
      "metadata": {
        "id": "VFSKXNvNQef7"
      },
      "outputs": [],
      "source": [
        "# Checking info of df\n",
        "fraud_test.info()"
      ]
    },
    {
      "cell_type": "code",
      "execution_count": null,
      "metadata": {
        "id": "s9fiUgkSRIlr"
      },
      "outputs": [],
      "source": [
        "# Checking distribution of numerical values in fraud_test  df\n",
        "fraud_test.describe()"
      ]
    },
    {
      "cell_type": "markdown",
      "metadata": {
        "id": "A3NfIal0QHec"
      },
      "source": [
        "----> There is no null values in fraud_train and fraud_test dataframe"
      ]
    },
    {
      "cell_type": "markdown",
      "metadata": {
        "id": "-ZvycvKSYNoY"
      },
      "source": [
        "# **2.EDA**"
      ]
    },
    {
      "cell_type": "markdown",
      "metadata": {
        "id": "1128MNX8YXJp"
      },
      "source": [
        "## 2.1 Data cleaning"
      ]
    },
    {
      "cell_type": "code",
      "execution_count": null,
      "metadata": {
        "id": "ZBDLVuTbYNWw"
      },
      "outputs": [],
      "source": [
        "fraud_train.duplicated().any()"
      ]
    },
    {
      "cell_type": "code",
      "execution_count": null,
      "metadata": {
        "id": "G28caWKoYcmE"
      },
      "outputs": [],
      "source": [
        "fraud_test.duplicated().any()"
      ]
    },
    {
      "cell_type": "code",
      "execution_count": null,
      "metadata": {
        "id": "Ol2F-X6iT9mD"
      },
      "outputs": [],
      "source": [
        "# Remmove duplicates\n",
        "fraud_train=fraud_train.drop_duplicates()\n",
        "fraud_test=fraud_test.drop_duplicates()"
      ]
    },
    {
      "cell_type": "markdown",
      "metadata": {
        "id": "6qDpQUAkYowL"
      },
      "source": [
        "## 2.2 Checking missing value"
      ]
    },
    {
      "cell_type": "code",
      "execution_count": null,
      "metadata": {
        "id": "vOc9NTy2Yy_f"
      },
      "outputs": [],
      "source": [
        "fraud_train.isna().any()"
      ]
    },
    {
      "cell_type": "code",
      "execution_count": null,
      "metadata": {
        "id": "GNMDQRJ1YzHy"
      },
      "outputs": [],
      "source": [
        "fraud_test.isna().any()"
      ]
    },
    {
      "cell_type": "markdown",
      "metadata": {
        "id": "3569HJ2bKAXq"
      },
      "source": [
        "## 2.3 Checking corrlation"
      ]
    },
    {
      "cell_type": "code",
      "execution_count": null,
      "metadata": {
        "id": "ElFm-mSwZ2rl"
      },
      "outputs": [],
      "source": [
        "train_corr = fraud_train.corr()\n",
        "train_corr"
      ]
    },
    {
      "cell_type": "code",
      "execution_count": null,
      "metadata": {
        "id": "a_brQqlOZ2f4"
      },
      "outputs": [],
      "source": [
        "#Checking correlation in heatmap\n",
        "plt.figure(figsize=(2,3))\n",
        "\n",
        "sns.heatmap(train_corr, cmap=\"coolwarm\", annot=True)\n",
        "plt.show()"
      ]
    },
    {
      "cell_type": "code",
      "execution_count": null,
      "metadata": {
        "id": "HxHiIRnFQWTI"
      },
      "outputs": [],
      "source": [
        "prof = ProfileReport(fraud_train)\n",
        "prof"
      ]
    },
    {
      "cell_type": "markdown",
      "metadata": {
        "id": "pzWtQOY1PZbu"
      },
      "source": [
        "There is no high corr between variables"
      ]
    },
    {
      "cell_type": "markdown",
      "metadata": {
        "id": "OLT7ZGkVKL59"
      },
      "source": [
        "## 2.4 Check number/percent of fraud"
      ]
    },
    {
      "cell_type": "code",
      "execution_count": null,
      "metadata": {
        "id": "Y41iqITmLcg7"
      },
      "outputs": [],
      "source": [
        "# Check numnber of transaction each category\n",
        "sns.countplot(data=fraud_train, y='category')\n",
        "plt.show()"
      ]
    },
    {
      "cell_type": "markdown",
      "metadata": {
        "id": "SZpotFqeUn-t"
      },
      "source": [
        "- grocery_pos, gas_transport, shopping_pos, home, kit_pets had the highest number of transations"
      ]
    },
    {
      "cell_type": "code",
      "execution_count": null,
      "metadata": {
        "id": "yLRXx9BhgyyB"
      },
      "outputs": [],
      "source": [
        "# Check number of gender in total transaction\n",
        "sns.countplot(data=fraud_train, y='gender')\n",
        "plt.show()"
      ]
    },
    {
      "cell_type": "code",
      "execution_count": null,
      "metadata": {
        "id": "xu4Ek9R6g56E"
      },
      "outputs": [],
      "source": [
        "# Top 20 city in which has the most transaction\n",
        "sns.countplot(y=\"state\", data=fraud_train,\n",
        "              order=fraud_train.state.value_counts().iloc[:20].index)"
      ]
    },
    {
      "cell_type": "code",
      "execution_count": null,
      "metadata": {
        "id": "54nnn-k3LH8O"
      },
      "outputs": [],
      "source": [
        "# Checking % of fraud in train set\n",
        "fraud = fraud_train['is_fraud'].value_counts()\n",
        "idx = fraud.index\n",
        "val = fraud.values\n",
        "\n",
        "plt.pie(val,\n",
        "        labels = idx,\n",
        "        autopct='%1.1f%%',\n",
        "        startangle=90)\n",
        "plt.title('Fraud and non-fraud transaction')\n",
        "plt.show()"
      ]
    },
    {
      "cell_type": "code",
      "execution_count": null,
      "metadata": {
        "id": "-1UWBKW-W6iM"
      },
      "outputs": [],
      "source": [
        "# Check which category has the most fraud transactions\n",
        "\n",
        "# Separate the data by 'is_fraud' conditions\n",
        "fraud_0 = fraud_train[fraud_train['is_fraud'] == 0]\n",
        "fraud_1 = fraud_train[fraud_train['is_fraud'] == 1]\n",
        "\n",
        "# Get the count of occurrences for each unique value in the 'category' column\n",
        "counts_0 = fraud_0['category'].value_counts()\n",
        "counts_1 = fraud_1['category'].value_counts()\n",
        "\n",
        "# Calculate the percentage of occurrences for each category in both conditions\n",
        "percent_0 = counts_0 / len(fraud_0) * 100\n",
        "percent_1 = counts_1 / len(fraud_1) * 100\n",
        "\n",
        "# Create a bar chart with the percentage for each category name in both conditions\n",
        "plt.bar(percent_0.index, percent_0.values, label='is_fraud = 0')\n",
        "plt.bar(percent_1.index, percent_1.values, label='is_fraud = 1')\n",
        "plt.xlabel('category')\n",
        "plt.ylabel('Percentage')\n",
        "plt.xticks(rotation=90)\n",
        "plt.legend()\n",
        "plt.show()"
      ]
    },
    {
      "cell_type": "markdown",
      "metadata": {
        "id": "Bk-PXyPMT4ye"
      },
      "source": [
        "- grocery_pos and shopping_net had no fraud transaction\n",
        "- home_category, kid_pets, food_dimming, health_fifness had high percentage of fraud transaction"
      ]
    },
    {
      "cell_type": "markdown",
      "metadata": {
        "id": "q4NbNx8CcqBo"
      },
      "source": [
        "# **3.Feature Engineering**"
      ]
    },
    {
      "cell_type": "markdown",
      "metadata": {
        "id": "Bhwk0Hjycye9"
      },
      "source": [
        "Create funtion onehot_encoded to turn category values into binary values"
      ]
    },
    {
      "cell_type": "code",
      "execution_count": null,
      "metadata": {
        "id": "6nBq7wvihCaj"
      },
      "outputs": [],
      "source": [
        "# def onehot_encoded(data, list_columns):\n",
        "\n",
        "#     from sklearn.preprocessing import OneHotEncoder\n",
        "#     import time\n",
        "#     '''Input is a list of category columns that will be encoded\n",
        "#     Output is a dataframe that have columns encoded and remove the old columns'''\n",
        "\n",
        "#     print('Start onehot process')\n",
        "#     st= time.time()\n",
        "#     one_hot_data = pd.get_dummies(fraud_train, columns = list_columns)\n",
        "#     return one_hot_data\n",
        "#     et = time.time()\n",
        "#     elaspe = (et-st)\n",
        "#     print('=> The process done in', elaspe,'s')"
      ]
    },
    {
      "cell_type": "markdown",
      "metadata": {
        "id": "LYoccPwOdCt1"
      },
      "source": [
        "## 3.1 Turn 'category' feature to binary values for fraud_train DF"
      ]
    },
    {
      "cell_type": "code",
      "execution_count": null,
      "metadata": {
        "id": "7EoPQ4tmzDVF"
      },
      "outputs": [],
      "source": [
        "category_train_dum=pd.get_dummies(fraud_train['category'],drop_first=True)\n",
        "gender_train_dum=pd.get_dummies(fraud_train['gender'],drop_first=True)"
      ]
    },
    {
      "cell_type": "code",
      "execution_count": null,
      "metadata": {
        "id": "IJ1Fr2nQzDFF"
      },
      "outputs": [],
      "source": [
        "# Drop the original 'category' ,'gender' , 'merchant' columns\n",
        "fraud_train.drop('category', axis=1, inplace=True)\n",
        "fraud_train.drop('gender', axis=1, inplace=True)\n",
        "fraud_train.drop('merchant', axis=1, inplace=True)\n",
        "\n",
        "# Note: Em drop cột merchant vì nếu encode ra, sau máy không đủ dung lượng để chạy"
      ]
    },
    {
      "cell_type": "code",
      "execution_count": null,
      "metadata": {
        "id": "U1lroIoczpKW"
      },
      "outputs": [],
      "source": [
        "fraud_train_dum=pd.concat([fraud_train, category_train_dum, gender_train_dum], axis=1)"
      ]
    },
    {
      "cell_type": "code",
      "execution_count": null,
      "metadata": {
        "id": "KV7mAgAzaPoP"
      },
      "outputs": [],
      "source": [
        "# onehot_encoded_data_train= onehot_encoded(fraud_train,list_columns = ['category', 'gender'])\n",
        "# print(onehot_encoded_data_train)"
      ]
    },
    {
      "cell_type": "code",
      "execution_count": null,
      "metadata": {
        "id": "sLyhbRnQbfNe"
      },
      "outputs": [],
      "source": [
        "# # Add the one-hot encoded columns to the original DataFrame\n",
        "# fraud_train = pd.concat([fraud_train, onehot_encoded_data_train], axis=1)\n",
        "\n",
        "# # Drop the original 'category' column\n",
        "# fraud_train.drop('category', axis=1, inplace=True)\n",
        "# fraud_train.drop('gender', axis=1, inplace=True)\n",
        "# fraud_train.drop('merchant', axis=1, inplace=True)\n",
        "\n",
        "# # Check that 'category', 'gender', 'merchant' are one-hot encoded\n",
        "# print(fraud_train.columns)"
      ]
    },
    {
      "cell_type": "markdown",
      "metadata": {
        "id": "YSw-wMN20JIn"
      },
      "source": [
        "Đoạn này không biết sao khi em dùng hàm encode theo example code chị đưa thì các cột numerical values đều bị nhân đôi lên, dẫn đến đoạn sau bị lỗi, nên em sử dụng get_dummies thôi. Mong chị giải đáp phần này ạ"
      ]
    },
    {
      "cell_type": "markdown",
      "metadata": {
        "id": "TxsZAKZxhy7x"
      },
      "source": [
        "## 3.2 Turn 'category' feature to binary values for fraud_test DF"
      ]
    },
    {
      "cell_type": "code",
      "execution_count": null,
      "metadata": {
        "id": "c3ojt2YQVDb9"
      },
      "outputs": [],
      "source": [
        "category_test_dum=pd.get_dummies(fraud_test['category'],drop_first=True)\n",
        "gender_test_dum=pd.get_dummies(fraud_test['gender'],drop_first=True)"
      ]
    },
    {
      "cell_type": "code",
      "execution_count": null,
      "metadata": {
        "id": "XwOy7WSNpDaD"
      },
      "outputs": [],
      "source": [
        "# Drop the original 'category' ,'gender' , 'merchant' columns\n",
        "fraud_test.drop('category', axis=1, inplace=True)\n",
        "fraud_test.drop('gender', axis=1, inplace=True)\n",
        "fraud_test.drop('merchant', axis=1, inplace=True)"
      ]
    },
    {
      "cell_type": "code",
      "execution_count": null,
      "metadata": {
        "id": "sEsbnXwZ1A_s"
      },
      "outputs": [],
      "source": [
        "fraud_test_dum=pd.concat([fraud_test, category_test_dum, gender_test_dum], axis=1)"
      ]
    },
    {
      "cell_type": "code",
      "execution_count": null,
      "metadata": {
        "id": "-XPsDKVxiCa2"
      },
      "outputs": [],
      "source": [
        "# onehot_encoded_data_test= onehot_encoded(fraud_test,list_columns = ['category', 'gender'])\n",
        "# print(onehot_encoded_data_train)\n",
        "# # Đoạn này k hiểu sao khi chạy lần lượt em bị lỗi là k có cột 'category' và 'gender' trong DF\n",
        "# # nhưng khi em cho chạy lại đoạn read_csv file ở trên và chạy lại lệnh này thì lại được (em thử mấy lần đều vậy)"
      ]
    },
    {
      "cell_type": "code",
      "execution_count": null,
      "metadata": {
        "id": "IgefuNlGe95h"
      },
      "outputs": [],
      "source": [
        "# # Add the one-hot encoded columns to the original DataFrame\n",
        "# fraud_test = pd.concat([fraud_test, onehot_encoded_data_test], axis=1)\n",
        "\n",
        "# # Drop the original 'category' column\n",
        "# fraud_test.drop('category', axis=1, inplace=True)\n",
        "# fraud_test.drop('gender', axis=1, inplace=True)\n",
        "# fraud_test.drop('merchant', axis=1, inplace=True)\n",
        "# # Check that 'category', 'gender', 'merchant' are one-hot encoded\n",
        "# print(fraud_test.columns)"
      ]
    },
    {
      "cell_type": "code",
      "execution_count": null,
      "metadata": {
        "colab": {
          "base_uri": "https://localhost:8080/",
          "height": 270
        },
        "id": "5nGIITurXwqJ",
        "outputId": "9a474548-f5f9-45b4-bdb3-acfb0cfd5730"
      },
      "outputs": [
        {
          "output_type": "execute_result",
          "data": {
            "text/plain": [
              "      amt  city_pop  is_fraud  food_dining  gas_transport  grocery_net  \\\n",
              "0    4.97      3495         0            0              0            0   \n",
              "1  107.23       149         0            0              0            0   \n",
              "2  220.11      4154         0            0              0            0   \n",
              "3   45.00      1939         0            0              1            0   \n",
              "4   41.96        99         0            0              0            0   \n",
              "\n",
              "   grocery_pos  health_fitness  home  kids_pets  misc_net  misc_pos  \\\n",
              "0            0               0     0          0         1         0   \n",
              "1            1               0     0          0         0         0   \n",
              "2            0               0     0          0         0         0   \n",
              "3            0               0     0          0         0         0   \n",
              "4            0               0     0          0         0         1   \n",
              "\n",
              "   personal_care  shopping_net  shopping_pos  travel  M  \n",
              "0              0             0             0       0  0  \n",
              "1              0             0             0       0  0  \n",
              "2              0             0             0       0  1  \n",
              "3              0             0             0       0  1  \n",
              "4              0             0             0       0  1  "
            ],
            "text/html": [
              "\n",
              "\n",
              "  <div id=\"df-8198b813-5b8d-40f8-9545-bd4657043277\">\n",
              "    <div class=\"colab-df-container\">\n",
              "      <div>\n",
              "<style scoped>\n",
              "    .dataframe tbody tr th:only-of-type {\n",
              "        vertical-align: middle;\n",
              "    }\n",
              "\n",
              "    .dataframe tbody tr th {\n",
              "        vertical-align: top;\n",
              "    }\n",
              "\n",
              "    .dataframe thead th {\n",
              "        text-align: right;\n",
              "    }\n",
              "</style>\n",
              "<table border=\"1\" class=\"dataframe\">\n",
              "  <thead>\n",
              "    <tr style=\"text-align: right;\">\n",
              "      <th></th>\n",
              "      <th>amt</th>\n",
              "      <th>city_pop</th>\n",
              "      <th>is_fraud</th>\n",
              "      <th>food_dining</th>\n",
              "      <th>gas_transport</th>\n",
              "      <th>grocery_net</th>\n",
              "      <th>grocery_pos</th>\n",
              "      <th>health_fitness</th>\n",
              "      <th>home</th>\n",
              "      <th>kids_pets</th>\n",
              "      <th>misc_net</th>\n",
              "      <th>misc_pos</th>\n",
              "      <th>personal_care</th>\n",
              "      <th>shopping_net</th>\n",
              "      <th>shopping_pos</th>\n",
              "      <th>travel</th>\n",
              "      <th>M</th>\n",
              "    </tr>\n",
              "  </thead>\n",
              "  <tbody>\n",
              "    <tr>\n",
              "      <th>0</th>\n",
              "      <td>4.97</td>\n",
              "      <td>3495</td>\n",
              "      <td>0</td>\n",
              "      <td>0</td>\n",
              "      <td>0</td>\n",
              "      <td>0</td>\n",
              "      <td>0</td>\n",
              "      <td>0</td>\n",
              "      <td>0</td>\n",
              "      <td>0</td>\n",
              "      <td>1</td>\n",
              "      <td>0</td>\n",
              "      <td>0</td>\n",
              "      <td>0</td>\n",
              "      <td>0</td>\n",
              "      <td>0</td>\n",
              "      <td>0</td>\n",
              "    </tr>\n",
              "    <tr>\n",
              "      <th>1</th>\n",
              "      <td>107.23</td>\n",
              "      <td>149</td>\n",
              "      <td>0</td>\n",
              "      <td>0</td>\n",
              "      <td>0</td>\n",
              "      <td>0</td>\n",
              "      <td>1</td>\n",
              "      <td>0</td>\n",
              "      <td>0</td>\n",
              "      <td>0</td>\n",
              "      <td>0</td>\n",
              "      <td>0</td>\n",
              "      <td>0</td>\n",
              "      <td>0</td>\n",
              "      <td>0</td>\n",
              "      <td>0</td>\n",
              "      <td>0</td>\n",
              "    </tr>\n",
              "    <tr>\n",
              "      <th>2</th>\n",
              "      <td>220.11</td>\n",
              "      <td>4154</td>\n",
              "      <td>0</td>\n",
              "      <td>0</td>\n",
              "      <td>0</td>\n",
              "      <td>0</td>\n",
              "      <td>0</td>\n",
              "      <td>0</td>\n",
              "      <td>0</td>\n",
              "      <td>0</td>\n",
              "      <td>0</td>\n",
              "      <td>0</td>\n",
              "      <td>0</td>\n",
              "      <td>0</td>\n",
              "      <td>0</td>\n",
              "      <td>0</td>\n",
              "      <td>1</td>\n",
              "    </tr>\n",
              "    <tr>\n",
              "      <th>3</th>\n",
              "      <td>45.00</td>\n",
              "      <td>1939</td>\n",
              "      <td>0</td>\n",
              "      <td>0</td>\n",
              "      <td>1</td>\n",
              "      <td>0</td>\n",
              "      <td>0</td>\n",
              "      <td>0</td>\n",
              "      <td>0</td>\n",
              "      <td>0</td>\n",
              "      <td>0</td>\n",
              "      <td>0</td>\n",
              "      <td>0</td>\n",
              "      <td>0</td>\n",
              "      <td>0</td>\n",
              "      <td>0</td>\n",
              "      <td>1</td>\n",
              "    </tr>\n",
              "    <tr>\n",
              "      <th>4</th>\n",
              "      <td>41.96</td>\n",
              "      <td>99</td>\n",
              "      <td>0</td>\n",
              "      <td>0</td>\n",
              "      <td>0</td>\n",
              "      <td>0</td>\n",
              "      <td>0</td>\n",
              "      <td>0</td>\n",
              "      <td>0</td>\n",
              "      <td>0</td>\n",
              "      <td>0</td>\n",
              "      <td>1</td>\n",
              "      <td>0</td>\n",
              "      <td>0</td>\n",
              "      <td>0</td>\n",
              "      <td>0</td>\n",
              "      <td>1</td>\n",
              "    </tr>\n",
              "  </tbody>\n",
              "</table>\n",
              "</div>\n",
              "      <button class=\"colab-df-convert\" onclick=\"convertToInteractive('df-8198b813-5b8d-40f8-9545-bd4657043277')\"\n",
              "              title=\"Convert this dataframe to an interactive table.\"\n",
              "              style=\"display:none;\">\n",
              "\n",
              "  <svg xmlns=\"http://www.w3.org/2000/svg\" height=\"24px\"viewBox=\"0 0 24 24\"\n",
              "       width=\"24px\">\n",
              "    <path d=\"M0 0h24v24H0V0z\" fill=\"none\"/>\n",
              "    <path d=\"M18.56 5.44l.94 2.06.94-2.06 2.06-.94-2.06-.94-.94-2.06-.94 2.06-2.06.94zm-11 1L8.5 8.5l.94-2.06 2.06-.94-2.06-.94L8.5 2.5l-.94 2.06-2.06.94zm10 10l.94 2.06.94-2.06 2.06-.94-2.06-.94-.94-2.06-.94 2.06-2.06.94z\"/><path d=\"M17.41 7.96l-1.37-1.37c-.4-.4-.92-.59-1.43-.59-.52 0-1.04.2-1.43.59L10.3 9.45l-7.72 7.72c-.78.78-.78 2.05 0 2.83L4 21.41c.39.39.9.59 1.41.59.51 0 1.02-.2 1.41-.59l7.78-7.78 2.81-2.81c.8-.78.8-2.07 0-2.86zM5.41 20L4 18.59l7.72-7.72 1.47 1.35L5.41 20z\"/>\n",
              "  </svg>\n",
              "      </button>\n",
              "\n",
              "\n",
              "\n",
              "    <div id=\"df-931ac1ba-f124-41f0-9c5d-4b33ee20945c\">\n",
              "      <button class=\"colab-df-quickchart\" onclick=\"quickchart('df-931ac1ba-f124-41f0-9c5d-4b33ee20945c')\"\n",
              "              title=\"Suggest charts.\"\n",
              "              style=\"display:none;\">\n",
              "\n",
              "<svg xmlns=\"http://www.w3.org/2000/svg\" height=\"24px\"viewBox=\"0 0 24 24\"\n",
              "     width=\"24px\">\n",
              "    <g>\n",
              "        <path d=\"M19 3H5c-1.1 0-2 .9-2 2v14c0 1.1.9 2 2 2h14c1.1 0 2-.9 2-2V5c0-1.1-.9-2-2-2zM9 17H7v-7h2v7zm4 0h-2V7h2v10zm4 0h-2v-4h2v4z\"/>\n",
              "    </g>\n",
              "</svg>\n",
              "      </button>\n",
              "    </div>\n",
              "\n",
              "<style>\n",
              "  .colab-df-quickchart {\n",
              "    background-color: #E8F0FE;\n",
              "    border: none;\n",
              "    border-radius: 50%;\n",
              "    cursor: pointer;\n",
              "    display: none;\n",
              "    fill: #1967D2;\n",
              "    height: 32px;\n",
              "    padding: 0 0 0 0;\n",
              "    width: 32px;\n",
              "  }\n",
              "\n",
              "  .colab-df-quickchart:hover {\n",
              "    background-color: #E2EBFA;\n",
              "    box-shadow: 0px 1px 2px rgba(60, 64, 67, 0.3), 0px 1px 3px 1px rgba(60, 64, 67, 0.15);\n",
              "    fill: #174EA6;\n",
              "  }\n",
              "\n",
              "  [theme=dark] .colab-df-quickchart {\n",
              "    background-color: #3B4455;\n",
              "    fill: #D2E3FC;\n",
              "  }\n",
              "\n",
              "  [theme=dark] .colab-df-quickchart:hover {\n",
              "    background-color: #434B5C;\n",
              "    box-shadow: 0px 1px 3px 1px rgba(0, 0, 0, 0.15);\n",
              "    filter: drop-shadow(0px 1px 2px rgba(0, 0, 0, 0.3));\n",
              "    fill: #FFFFFF;\n",
              "  }\n",
              "</style>\n",
              "\n",
              "    <script>\n",
              "      async function quickchart(key) {\n",
              "        const containerElement = document.querySelector('#' + key);\n",
              "        const charts = await google.colab.kernel.invokeFunction(\n",
              "            'suggestCharts', [key], {});\n",
              "      }\n",
              "    </script>\n",
              "\n",
              "      <script>\n",
              "\n",
              "function displayQuickchartButton(domScope) {\n",
              "  let quickchartButtonEl =\n",
              "    domScope.querySelector('#df-931ac1ba-f124-41f0-9c5d-4b33ee20945c button.colab-df-quickchart');\n",
              "  quickchartButtonEl.style.display =\n",
              "    google.colab.kernel.accessAllowed ? 'block' : 'none';\n",
              "}\n",
              "\n",
              "        displayQuickchartButton(document);\n",
              "      </script>\n",
              "      <style>\n",
              "    .colab-df-container {\n",
              "      display:flex;\n",
              "      flex-wrap:wrap;\n",
              "      gap: 12px;\n",
              "    }\n",
              "\n",
              "    .colab-df-convert {\n",
              "      background-color: #E8F0FE;\n",
              "      border: none;\n",
              "      border-radius: 50%;\n",
              "      cursor: pointer;\n",
              "      display: none;\n",
              "      fill: #1967D2;\n",
              "      height: 32px;\n",
              "      padding: 0 0 0 0;\n",
              "      width: 32px;\n",
              "    }\n",
              "\n",
              "    .colab-df-convert:hover {\n",
              "      background-color: #E2EBFA;\n",
              "      box-shadow: 0px 1px 2px rgba(60, 64, 67, 0.3), 0px 1px 3px 1px rgba(60, 64, 67, 0.15);\n",
              "      fill: #174EA6;\n",
              "    }\n",
              "\n",
              "    [theme=dark] .colab-df-convert {\n",
              "      background-color: #3B4455;\n",
              "      fill: #D2E3FC;\n",
              "    }\n",
              "\n",
              "    [theme=dark] .colab-df-convert:hover {\n",
              "      background-color: #434B5C;\n",
              "      box-shadow: 0px 1px 3px 1px rgba(0, 0, 0, 0.15);\n",
              "      filter: drop-shadow(0px 1px 2px rgba(0, 0, 0, 0.3));\n",
              "      fill: #FFFFFF;\n",
              "    }\n",
              "  </style>\n",
              "\n",
              "      <script>\n",
              "        const buttonEl =\n",
              "          document.querySelector('#df-8198b813-5b8d-40f8-9545-bd4657043277 button.colab-df-convert');\n",
              "        buttonEl.style.display =\n",
              "          google.colab.kernel.accessAllowed ? 'block' : 'none';\n",
              "\n",
              "        async function convertToInteractive(key) {\n",
              "          const element = document.querySelector('#df-8198b813-5b8d-40f8-9545-bd4657043277');\n",
              "          const dataTable =\n",
              "            await google.colab.kernel.invokeFunction('convertToInteractive',\n",
              "                                                     [key], {});\n",
              "          if (!dataTable) return;\n",
              "\n",
              "          const docLinkHtml = 'Like what you see? Visit the ' +\n",
              "            '<a target=\"_blank\" href=https://colab.research.google.com/notebooks/data_table.ipynb>data table notebook</a>'\n",
              "            + ' to learn more about interactive tables.';\n",
              "          element.innerHTML = '';\n",
              "          dataTable['output_type'] = 'display_data';\n",
              "          await google.colab.output.renderOutput(dataTable, element);\n",
              "          const docLink = document.createElement('div');\n",
              "          docLink.innerHTML = docLinkHtml;\n",
              "          element.appendChild(docLink);\n",
              "        }\n",
              "      </script>\n",
              "    </div>\n",
              "  </div>\n"
            ]
          },
          "metadata": {},
          "execution_count": 10
        }
      ],
      "source": [
        "fraud_train_dum.head()"
      ]
    },
    {
      "cell_type": "markdown",
      "metadata": {
        "id": "5yx4J9E6dZEe"
      },
      "source": [
        "## 3.3 Split dataset to dependent and indepentden df"
      ]
    },
    {
      "cell_type": "code",
      "execution_count": null,
      "metadata": {
        "id": "4TRV16wwVAWf"
      },
      "outputs": [],
      "source": [
        "# split train dataset\n",
        "y_train= fraud_train_dum['is_fraud']\n",
        "x_train= fraud_train_dum.drop(['is_fraud'], axis=1)\n",
        "# Split test dataset\n",
        "y_test= fraud_test_dum['is_fraud']\n",
        "x_test= fraud_test_dum.drop(['is_fraud'], axis=1)"
      ]
    },
    {
      "cell_type": "code",
      "execution_count": null,
      "metadata": {
        "colab": {
          "base_uri": "https://localhost:8080/",
          "height": 270
        },
        "id": "Y4Jx1n0bXdsB",
        "outputId": "acab865c-2815-4982-dab8-6967f9a1a012"
      },
      "outputs": [
        {
          "output_type": "execute_result",
          "data": {
            "text/plain": [
              "     amt  city_pop  food_dining  gas_transport  grocery_net  grocery_pos  \\\n",
              "0   2.86    333497            0              0            0            0   \n",
              "1  29.84       302            0              0            0            0   \n",
              "2  41.28     34496            0              0            0            0   \n",
              "3  60.05     54767            0              0            0            0   \n",
              "4   3.19      1126            0              0            0            0   \n",
              "\n",
              "   health_fitness  home  kids_pets  misc_net  misc_pos  personal_care  \\\n",
              "0               0     0          0         0         0              1   \n",
              "1               0     0          0         0         0              1   \n",
              "2               1     0          0         0         0              0   \n",
              "3               0     0          0         0         1              0   \n",
              "4               0     0          0         0         0              0   \n",
              "\n",
              "   shopping_net  shopping_pos  travel  M  \n",
              "0             0             0       0  1  \n",
              "1             0             0       0  0  \n",
              "2             0             0       0  0  \n",
              "3             0             0       0  1  \n",
              "4             0             0       1  1  "
            ],
            "text/html": [
              "\n",
              "\n",
              "  <div id=\"df-773d3dca-5f91-41ec-ba7c-8005095b3e26\">\n",
              "    <div class=\"colab-df-container\">\n",
              "      <div>\n",
              "<style scoped>\n",
              "    .dataframe tbody tr th:only-of-type {\n",
              "        vertical-align: middle;\n",
              "    }\n",
              "\n",
              "    .dataframe tbody tr th {\n",
              "        vertical-align: top;\n",
              "    }\n",
              "\n",
              "    .dataframe thead th {\n",
              "        text-align: right;\n",
              "    }\n",
              "</style>\n",
              "<table border=\"1\" class=\"dataframe\">\n",
              "  <thead>\n",
              "    <tr style=\"text-align: right;\">\n",
              "      <th></th>\n",
              "      <th>amt</th>\n",
              "      <th>city_pop</th>\n",
              "      <th>food_dining</th>\n",
              "      <th>gas_transport</th>\n",
              "      <th>grocery_net</th>\n",
              "      <th>grocery_pos</th>\n",
              "      <th>health_fitness</th>\n",
              "      <th>home</th>\n",
              "      <th>kids_pets</th>\n",
              "      <th>misc_net</th>\n",
              "      <th>misc_pos</th>\n",
              "      <th>personal_care</th>\n",
              "      <th>shopping_net</th>\n",
              "      <th>shopping_pos</th>\n",
              "      <th>travel</th>\n",
              "      <th>M</th>\n",
              "    </tr>\n",
              "  </thead>\n",
              "  <tbody>\n",
              "    <tr>\n",
              "      <th>0</th>\n",
              "      <td>2.86</td>\n",
              "      <td>333497</td>\n",
              "      <td>0</td>\n",
              "      <td>0</td>\n",
              "      <td>0</td>\n",
              "      <td>0</td>\n",
              "      <td>0</td>\n",
              "      <td>0</td>\n",
              "      <td>0</td>\n",
              "      <td>0</td>\n",
              "      <td>0</td>\n",
              "      <td>1</td>\n",
              "      <td>0</td>\n",
              "      <td>0</td>\n",
              "      <td>0</td>\n",
              "      <td>1</td>\n",
              "    </tr>\n",
              "    <tr>\n",
              "      <th>1</th>\n",
              "      <td>29.84</td>\n",
              "      <td>302</td>\n",
              "      <td>0</td>\n",
              "      <td>0</td>\n",
              "      <td>0</td>\n",
              "      <td>0</td>\n",
              "      <td>0</td>\n",
              "      <td>0</td>\n",
              "      <td>0</td>\n",
              "      <td>0</td>\n",
              "      <td>0</td>\n",
              "      <td>1</td>\n",
              "      <td>0</td>\n",
              "      <td>0</td>\n",
              "      <td>0</td>\n",
              "      <td>0</td>\n",
              "    </tr>\n",
              "    <tr>\n",
              "      <th>2</th>\n",
              "      <td>41.28</td>\n",
              "      <td>34496</td>\n",
              "      <td>0</td>\n",
              "      <td>0</td>\n",
              "      <td>0</td>\n",
              "      <td>0</td>\n",
              "      <td>1</td>\n",
              "      <td>0</td>\n",
              "      <td>0</td>\n",
              "      <td>0</td>\n",
              "      <td>0</td>\n",
              "      <td>0</td>\n",
              "      <td>0</td>\n",
              "      <td>0</td>\n",
              "      <td>0</td>\n",
              "      <td>0</td>\n",
              "    </tr>\n",
              "    <tr>\n",
              "      <th>3</th>\n",
              "      <td>60.05</td>\n",
              "      <td>54767</td>\n",
              "      <td>0</td>\n",
              "      <td>0</td>\n",
              "      <td>0</td>\n",
              "      <td>0</td>\n",
              "      <td>0</td>\n",
              "      <td>0</td>\n",
              "      <td>0</td>\n",
              "      <td>0</td>\n",
              "      <td>1</td>\n",
              "      <td>0</td>\n",
              "      <td>0</td>\n",
              "      <td>0</td>\n",
              "      <td>0</td>\n",
              "      <td>1</td>\n",
              "    </tr>\n",
              "    <tr>\n",
              "      <th>4</th>\n",
              "      <td>3.19</td>\n",
              "      <td>1126</td>\n",
              "      <td>0</td>\n",
              "      <td>0</td>\n",
              "      <td>0</td>\n",
              "      <td>0</td>\n",
              "      <td>0</td>\n",
              "      <td>0</td>\n",
              "      <td>0</td>\n",
              "      <td>0</td>\n",
              "      <td>0</td>\n",
              "      <td>0</td>\n",
              "      <td>0</td>\n",
              "      <td>0</td>\n",
              "      <td>1</td>\n",
              "      <td>1</td>\n",
              "    </tr>\n",
              "  </tbody>\n",
              "</table>\n",
              "</div>\n",
              "      <button class=\"colab-df-convert\" onclick=\"convertToInteractive('df-773d3dca-5f91-41ec-ba7c-8005095b3e26')\"\n",
              "              title=\"Convert this dataframe to an interactive table.\"\n",
              "              style=\"display:none;\">\n",
              "\n",
              "  <svg xmlns=\"http://www.w3.org/2000/svg\" height=\"24px\"viewBox=\"0 0 24 24\"\n",
              "       width=\"24px\">\n",
              "    <path d=\"M0 0h24v24H0V0z\" fill=\"none\"/>\n",
              "    <path d=\"M18.56 5.44l.94 2.06.94-2.06 2.06-.94-2.06-.94-.94-2.06-.94 2.06-2.06.94zm-11 1L8.5 8.5l.94-2.06 2.06-.94-2.06-.94L8.5 2.5l-.94 2.06-2.06.94zm10 10l.94 2.06.94-2.06 2.06-.94-2.06-.94-.94-2.06-.94 2.06-2.06.94z\"/><path d=\"M17.41 7.96l-1.37-1.37c-.4-.4-.92-.59-1.43-.59-.52 0-1.04.2-1.43.59L10.3 9.45l-7.72 7.72c-.78.78-.78 2.05 0 2.83L4 21.41c.39.39.9.59 1.41.59.51 0 1.02-.2 1.41-.59l7.78-7.78 2.81-2.81c.8-.78.8-2.07 0-2.86zM5.41 20L4 18.59l7.72-7.72 1.47 1.35L5.41 20z\"/>\n",
              "  </svg>\n",
              "      </button>\n",
              "\n",
              "\n",
              "\n",
              "    <div id=\"df-5a5d3c49-a4db-406d-b7f0-adc1c2a509a6\">\n",
              "      <button class=\"colab-df-quickchart\" onclick=\"quickchart('df-5a5d3c49-a4db-406d-b7f0-adc1c2a509a6')\"\n",
              "              title=\"Suggest charts.\"\n",
              "              style=\"display:none;\">\n",
              "\n",
              "<svg xmlns=\"http://www.w3.org/2000/svg\" height=\"24px\"viewBox=\"0 0 24 24\"\n",
              "     width=\"24px\">\n",
              "    <g>\n",
              "        <path d=\"M19 3H5c-1.1 0-2 .9-2 2v14c0 1.1.9 2 2 2h14c1.1 0 2-.9 2-2V5c0-1.1-.9-2-2-2zM9 17H7v-7h2v7zm4 0h-2V7h2v10zm4 0h-2v-4h2v4z\"/>\n",
              "    </g>\n",
              "</svg>\n",
              "      </button>\n",
              "    </div>\n",
              "\n",
              "<style>\n",
              "  .colab-df-quickchart {\n",
              "    background-color: #E8F0FE;\n",
              "    border: none;\n",
              "    border-radius: 50%;\n",
              "    cursor: pointer;\n",
              "    display: none;\n",
              "    fill: #1967D2;\n",
              "    height: 32px;\n",
              "    padding: 0 0 0 0;\n",
              "    width: 32px;\n",
              "  }\n",
              "\n",
              "  .colab-df-quickchart:hover {\n",
              "    background-color: #E2EBFA;\n",
              "    box-shadow: 0px 1px 2px rgba(60, 64, 67, 0.3), 0px 1px 3px 1px rgba(60, 64, 67, 0.15);\n",
              "    fill: #174EA6;\n",
              "  }\n",
              "\n",
              "  [theme=dark] .colab-df-quickchart {\n",
              "    background-color: #3B4455;\n",
              "    fill: #D2E3FC;\n",
              "  }\n",
              "\n",
              "  [theme=dark] .colab-df-quickchart:hover {\n",
              "    background-color: #434B5C;\n",
              "    box-shadow: 0px 1px 3px 1px rgba(0, 0, 0, 0.15);\n",
              "    filter: drop-shadow(0px 1px 2px rgba(0, 0, 0, 0.3));\n",
              "    fill: #FFFFFF;\n",
              "  }\n",
              "</style>\n",
              "\n",
              "    <script>\n",
              "      async function quickchart(key) {\n",
              "        const containerElement = document.querySelector('#' + key);\n",
              "        const charts = await google.colab.kernel.invokeFunction(\n",
              "            'suggestCharts', [key], {});\n",
              "      }\n",
              "    </script>\n",
              "\n",
              "      <script>\n",
              "\n",
              "function displayQuickchartButton(domScope) {\n",
              "  let quickchartButtonEl =\n",
              "    domScope.querySelector('#df-5a5d3c49-a4db-406d-b7f0-adc1c2a509a6 button.colab-df-quickchart');\n",
              "  quickchartButtonEl.style.display =\n",
              "    google.colab.kernel.accessAllowed ? 'block' : 'none';\n",
              "}\n",
              "\n",
              "        displayQuickchartButton(document);\n",
              "      </script>\n",
              "      <style>\n",
              "    .colab-df-container {\n",
              "      display:flex;\n",
              "      flex-wrap:wrap;\n",
              "      gap: 12px;\n",
              "    }\n",
              "\n",
              "    .colab-df-convert {\n",
              "      background-color: #E8F0FE;\n",
              "      border: none;\n",
              "      border-radius: 50%;\n",
              "      cursor: pointer;\n",
              "      display: none;\n",
              "      fill: #1967D2;\n",
              "      height: 32px;\n",
              "      padding: 0 0 0 0;\n",
              "      width: 32px;\n",
              "    }\n",
              "\n",
              "    .colab-df-convert:hover {\n",
              "      background-color: #E2EBFA;\n",
              "      box-shadow: 0px 1px 2px rgba(60, 64, 67, 0.3), 0px 1px 3px 1px rgba(60, 64, 67, 0.15);\n",
              "      fill: #174EA6;\n",
              "    }\n",
              "\n",
              "    [theme=dark] .colab-df-convert {\n",
              "      background-color: #3B4455;\n",
              "      fill: #D2E3FC;\n",
              "    }\n",
              "\n",
              "    [theme=dark] .colab-df-convert:hover {\n",
              "      background-color: #434B5C;\n",
              "      box-shadow: 0px 1px 3px 1px rgba(0, 0, 0, 0.15);\n",
              "      filter: drop-shadow(0px 1px 2px rgba(0, 0, 0, 0.3));\n",
              "      fill: #FFFFFF;\n",
              "    }\n",
              "  </style>\n",
              "\n",
              "      <script>\n",
              "        const buttonEl =\n",
              "          document.querySelector('#df-773d3dca-5f91-41ec-ba7c-8005095b3e26 button.colab-df-convert');\n",
              "        buttonEl.style.display =\n",
              "          google.colab.kernel.accessAllowed ? 'block' : 'none';\n",
              "\n",
              "        async function convertToInteractive(key) {\n",
              "          const element = document.querySelector('#df-773d3dca-5f91-41ec-ba7c-8005095b3e26');\n",
              "          const dataTable =\n",
              "            await google.colab.kernel.invokeFunction('convertToInteractive',\n",
              "                                                     [key], {});\n",
              "          if (!dataTable) return;\n",
              "\n",
              "          const docLinkHtml = 'Like what you see? Visit the ' +\n",
              "            '<a target=\"_blank\" href=https://colab.research.google.com/notebooks/data_table.ipynb>data table notebook</a>'\n",
              "            + ' to learn more about interactive tables.';\n",
              "          element.innerHTML = '';\n",
              "          dataTable['output_type'] = 'display_data';\n",
              "          await google.colab.output.renderOutput(dataTable, element);\n",
              "          const docLink = document.createElement('div');\n",
              "          docLink.innerHTML = docLinkHtml;\n",
              "          element.appendChild(docLink);\n",
              "        }\n",
              "      </script>\n",
              "    </div>\n",
              "  </div>\n"
            ]
          },
          "metadata": {},
          "execution_count": 12
        }
      ],
      "source": [
        "# Check x_test DF\n",
        "x_test.head()"
      ]
    },
    {
      "cell_type": "markdown",
      "metadata": {
        "id": "RR_eS2lB2E3c"
      },
      "source": [
        "##  3.4 Scaler data"
      ]
    },
    {
      "cell_type": "code",
      "execution_count": null,
      "metadata": {
        "id": "VRshtT0QejgR"
      },
      "outputs": [],
      "source": [
        "x_train_scaled=scaler.fit_transform(x_train)"
      ]
    },
    {
      "cell_type": "code",
      "execution_count": null,
      "metadata": {
        "id": "svd8np1cejcZ"
      },
      "outputs": [],
      "source": [
        "x_test_scaled=scaler.fit_transform(x_test)"
      ]
    },
    {
      "cell_type": "code",
      "execution_count": null,
      "metadata": {
        "colab": {
          "base_uri": "https://localhost:8080/"
        },
        "id": "Y9lT6s-8ejYi",
        "outputId": "5a8e563a-e8d7-45bd-cfcb-8c89cfda0330"
      },
      "outputs": [
        {
          "output_type": "stream",
          "name": "stdout",
          "text": [
            "amt                  70.279095\n",
            "city_pop          89057.759063\n",
            "food_dining           0.070611\n",
            "gas_transport         0.101500\n",
            "grocery_net           0.035018\n",
            "grocery_pos           0.095278\n",
            "health_fitness        0.066149\n",
            "home                  0.094965\n",
            "kids_pets             0.087170\n",
            "misc_net              0.048716\n",
            "misc_pos              0.061504\n",
            "personal_care         0.070093\n",
            "shopping_net          0.075244\n",
            "shopping_pos          0.089982\n",
            "travel                0.031309\n",
            "M                     0.452621\n",
            "dtype: float64 amt                  159.951765\n",
            "city_pop          302434.913407\n",
            "food_dining            0.256174\n",
            "gas_transport          0.301989\n",
            "grocery_net            0.183825\n",
            "grocery_pos            0.293598\n",
            "health_fitness         0.248542\n",
            "home                   0.293167\n",
            "kids_pets              0.282084\n",
            "misc_net               0.215273\n",
            "misc_pos               0.240253\n",
            "personal_care          0.255304\n",
            "shopping_net           0.263785\n",
            "shopping_pos           0.286156\n",
            "travel                 0.174152\n",
            "M                      0.497750\n",
            "dtype: float64\n",
            "3.048474484420047e-18 1.0\n"
          ]
        },
        {
          "output_type": "stream",
          "name": "stderr",
          "text": [
            "/usr/local/lib/python3.10/dist-packages/numpy/core/fromnumeric.py:3472: FutureWarning: In a future version, DataFrame.mean(axis=None) will return a scalar mean over the entire DataFrame. To retain the old behavior, use 'frame.mean(axis=0)' or just 'frame.mean()'\n",
            "  return mean(axis=axis, dtype=dtype, out=out, **kwargs)\n"
          ]
        }
      ],
      "source": [
        "print(np.mean(x_train), np.std(x_train))\n",
        "print(np.mean(x_train_scaled), np.std(x_train_scaled))"
      ]
    },
    {
      "cell_type": "code",
      "execution_count": null,
      "metadata": {
        "colab": {
          "base_uri": "https://localhost:8080/"
        },
        "id": "ZnCUhbemuGLQ",
        "outputId": "f80f6afd-3d92-4525-9452-73f0f5764ad1"
      },
      "outputs": [
        {
          "output_type": "stream",
          "name": "stdout",
          "text": [
            "amt                  69.392810\n",
            "city_pop          88221.887918\n",
            "food_dining           0.070662\n",
            "gas_transport         0.101436\n",
            "grocery_net           0.034957\n",
            "grocery_pos           0.094568\n",
            "health_fitness        0.065994\n",
            "home                  0.094193\n",
            "kids_pets             0.087620\n",
            "misc_net              0.049246\n",
            "misc_pos              0.062215\n",
            "personal_care         0.070768\n",
            "shopping_net          0.075180\n",
            "shopping_pos          0.089597\n",
            "travel                0.031399\n",
            "M                     0.451367\n",
            "dtype: float64 amt                  156.745800\n",
            "city_pop          300390.621789\n",
            "food_dining            0.256259\n",
            "gas_transport          0.301905\n",
            "grocery_net            0.183670\n",
            "grocery_pos            0.292617\n",
            "health_fitness         0.248271\n",
            "home                   0.292097\n",
            "kids_pets              0.282741\n",
            "misc_net               0.216381\n",
            "misc_pos               0.241545\n",
            "personal_care          0.256437\n",
            "shopping_net           0.263682\n",
            "shopping_pos           0.285604\n",
            "travel                 0.174393\n",
            "M                      0.497629\n",
            "dtype: float64\n",
            "2.1248746380658508e-18 0.9999999999999998\n"
          ]
        },
        {
          "output_type": "stream",
          "name": "stderr",
          "text": [
            "/usr/local/lib/python3.10/dist-packages/numpy/core/fromnumeric.py:3472: FutureWarning: In a future version, DataFrame.mean(axis=None) will return a scalar mean over the entire DataFrame. To retain the old behavior, use 'frame.mean(axis=0)' or just 'frame.mean()'\n",
            "  return mean(axis=axis, dtype=dtype, out=out, **kwargs)\n"
          ]
        }
      ],
      "source": [
        "print(np.mean(x_test), np.std(x_test))\n",
        "print(np.mean(x_test_scaled), np.std(x_test_scaled))"
      ]
    },
    {
      "cell_type": "markdown",
      "metadata": {
        "id": "XE-VnttGyXQC"
      },
      "source": [
        "#   **4.Model Selection**"
      ]
    },
    {
      "cell_type": "code",
      "execution_count": null,
      "metadata": {
        "id": "y3JGWShAyco8"
      },
      "outputs": [],
      "source": [
        "# Create list of models\n",
        "models={'LogisticRegression': LogisticRegression(), 'KNN':KNeighborsClassifier(),\n",
        "       'Desision Tree': DecisionTreeClassifier(), 'Random Forest':RandomForestClassifier() }"
      ]
    },
    {
      "cell_type": "code",
      "execution_count": null,
      "metadata": {
        "id": "jWwjrcO2zBTq"
      },
      "outputs": [],
      "source": [
        "# Create variable to store results\n",
        "results=[]"
      ]
    },
    {
      "cell_type": "code",
      "execution_count": null,
      "metadata": {
        "id": "5-qeNKkr7WtT"
      },
      "outputs": [],
      "source": [
        "y_train=y_train.values"
      ]
    },
    {
      "cell_type": "code",
      "execution_count": null,
      "metadata": {
        "id": "ovHbASsqzBQl"
      },
      "outputs": [],
      "source": [
        "# for model in models.values():\n",
        "#   kf=KFold(n_splits=6, random_state=42, shuffle=True)\n",
        "#   cv_results=cross_val_score(model, x_train_scaled, y_train, cv=kf)\n",
        "#   results.append(cv_results)\n",
        "\n",
        "# plt.boxplot(results, labels=models.keys())\n",
        "# plt.show()"
      ]
    },
    {
      "cell_type": "markdown",
      "metadata": {
        "id": "nPH-PBdiJxjP"
      },
      "source": [
        "## 4.1 LogisticRegression"
      ]
    },
    {
      "cell_type": "code",
      "execution_count": null,
      "metadata": {
        "id": "aMJKCcMZzBAf"
      },
      "outputs": [],
      "source": [
        "log_reg = LogisticRegression()"
      ]
    },
    {
      "cell_type": "code",
      "execution_count": null,
      "metadata": {
        "id": "vLLyvJ8N3Thj"
      },
      "outputs": [],
      "source": [
        "log_reg.fit(x_train_scaled, y_train)\n",
        "y_logreg_pred= log_reg.predict(x_test_scaled)"
      ]
    },
    {
      "cell_type": "code",
      "execution_count": null,
      "metadata": {
        "colab": {
          "base_uri": "https://localhost:8080/"
        },
        "id": "SnPLxLvEVpAW",
        "outputId": "502852bf-5942-4955-f78e-a12a49f500a4"
      },
      "outputs": [
        {
          "output_type": "execute_result",
          "data": {
            "text/plain": [
              "0.9955499092167085"
            ]
          },
          "metadata": {},
          "execution_count": 20
        }
      ],
      "source": [
        "log_reg.score(x_test_scaled, y_test)"
      ]
    },
    {
      "cell_type": "code",
      "execution_count": null,
      "metadata": {
        "colab": {
          "base_uri": "https://localhost:8080/"
        },
        "id": "b8qnQQ3V6Xu0",
        "outputId": "ca8c1186-edae-47f3-a4f7-ce1cf0e963de"
      },
      "outputs": [
        {
          "output_type": "stream",
          "name": "stdout",
          "text": [
            "[[553246    328]\n",
            " [  2145      0]]\n"
          ]
        }
      ],
      "source": [
        "# Compute confusion_matix of LogisticRegession classification\n",
        "print(confusion_matrix(y_test, y_logreg_pred))"
      ]
    },
    {
      "cell_type": "code",
      "source": [
        "# using metrics module for accuracy calculation\n",
        "print(\"ACCURACY OF THE MODEL: \", metrics.accuracy_score(y_test, y_logreg_pred))"
      ],
      "metadata": {
        "colab": {
          "base_uri": "https://localhost:8080/"
        },
        "id": "wiKDCXD5trr5",
        "outputId": "5509f068-d67a-436c-b14a-ecc097228393"
      },
      "execution_count": null,
      "outputs": [
        {
          "output_type": "stream",
          "name": "stdout",
          "text": [
            "ACCURACY OF THE MODEL:  0.9955499092167085\n"
          ]
        }
      ]
    },
    {
      "cell_type": "code",
      "execution_count": null,
      "metadata": {
        "colab": {
          "base_uri": "https://localhost:8080/"
        },
        "id": "vo0mMPcz6jeU",
        "outputId": "65a291e4-0ed2-441b-fbcb-b0d24f2a8295"
      },
      "outputs": [
        {
          "output_type": "stream",
          "name": "stdout",
          "text": [
            "              precision    recall  f1-score   support\n",
            "\n",
            "           0       1.00      1.00      1.00    553574\n",
            "           1       0.00      0.00      0.00      2145\n",
            "\n",
            "    accuracy                           1.00    555719\n",
            "   macro avg       0.50      0.50      0.50    555719\n",
            "weighted avg       0.99      1.00      0.99    555719\n",
            "\n"
          ]
        }
      ],
      "source": [
        "# Compute resulting metrix of LogisticRegession classification\n",
        "print(classification_report(y_test, y_logreg_pred))"
      ]
    },
    {
      "cell_type": "markdown",
      "metadata": {
        "id": "aovVt9gZ7ESD"
      },
      "source": [
        "Nhận xét:\n",
        "-\n",
        "-\n",
        "-\n",
        "-\n",
        "-\n",
        "-\n"
      ]
    },
    {
      "cell_type": "code",
      "execution_count": null,
      "metadata": {
        "colab": {
          "base_uri": "https://localhost:8080/",
          "height": 480
        },
        "id": "yevEaqga3Tdc",
        "outputId": "d5baac10-ac4c-4eb0-c2e5-357de7ed90e1"
      },
      "outputs": [
        {
          "output_type": "display_data",
          "data": {
            "text/plain": [
              "<Figure size 640x480 with 1 Axes>"
            ],
            "image/png": "[encoded data removed]"
          },
          "metadata": {}
        }
      ],
      "source": [
        "# Plot ROC curve\n",
        "y_logreg_pred_prob= log_reg.predict_proba(x_test_scaled)[:,1]\n",
        "# Generate ROX curve values: fpr, tpr, thresholds\n",
        "fpr, tpr, thresholds= roc_curve(y_test, y_logreg_pred_prob)\n",
        "# Plot ROC curve\n",
        "plt.plot([0, 1], [0, 1], 'k--')\n",
        "plt.plot(fpr, tpr)\n",
        "plt.xlabel('False Positive Rate')\n",
        "plt.ylabel('True Positive Rate')\n",
        "plt.title('ROC Curve')\n",
        "plt.show()"
      ]
    },
    {
      "cell_type": "markdown",
      "metadata": {
        "id": "aVYWTmjO8kmy"
      },
      "source": [
        "## 4.2 KNeighborsClassifier\n",
        " máy em k chạy được Knn, nặng quá nên em cứ để đây thôi ạ"
      ]
    },
    {
      "cell_type": "code",
      "execution_count": null,
      "metadata": {
        "id": "iFYxnLme8kHS"
      },
      "outputs": [],
      "source": [
        "# # Initiate knn classifier\n",
        "# knn=KNeighborsClassifier(n_neighbors=10)"
      ]
    },
    {
      "cell_type": "markdown",
      "source": [
        "Choose n_neighbors"
      ],
      "metadata": {
        "id": "DfgTS-sQt9EL"
      }
    },
    {
      "cell_type": "code",
      "execution_count": null,
      "metadata": {
        "id": "RTcEajswSp-V"
      },
      "outputs": [],
      "source": [
        "# # Setup arrays to store train and test accuracies\n",
        "# neighbors = np.arange(1, 20)\n",
        "# train_accuracy = np.empty(len(neighbors))\n",
        "# test_accuracy = np.empty(len(neighbors))\n",
        "# # Loop over different values of k\n",
        "# for i, k in enumerate(neighbors):\n",
        "#     # Setup a k-NN Classifier with k neighbors: knn\n",
        "#     knn = KNeighborsClassifier(n_neighbors = k)\n",
        "#     # Fit the classifier to the training data\n",
        "#     knn.fit(x_train_scaled, y_train)\n",
        "#     #Compute accuracy on the training set\n",
        "#     train_accuracy[i] = knn.score(x_train_scaled, y_train)\n",
        "#     #Compute accuracy on the testing set\n",
        "#     test_accuracy[i] = knn.score(x_test_scaled, y_test)\n",
        "# # Generate plot\n",
        "# plt.title('k-NN: Varying Number of Neighbors')\n",
        "# plt.plot(neighbors, test_accuracy, label = 'Testing Accuracy')\n",
        "# plt.plot(neighbors, train_accuracy, label = 'Training Accuracy')\n",
        "# plt.legend()\n",
        "# plt.xlabel('Number of Neighbors')\n",
        "# plt.ylabel('Accuracy')\n",
        "# plt.show()\n"
      ]
    },
    {
      "cell_type": "code",
      "execution_count": null,
      "metadata": {
        "colab": {
          "background_save": true
        },
        "id": "cvJQvsIFSwtw",
        "outputId": "080ccafa-9749-4467-de6f-db5e2aa722e7"
      },
      "outputs": [
        {
          "data": {
            "text/plain": [
              "0.9976804824020773"
            ]
          },
          "execution_count": 26,
          "metadata": {},
          "output_type": "execute_result"
        }
      ],
      "source": [
        "# knn.fit(x_train_scaled, y_train)\n",
        "# y_knn_pred= knn.predict(x_test_scaled)\n",
        "# # Check accuracy\n",
        "# knn.score(x_test_scaled, y_test)"
      ]
    },
    {
      "cell_type": "code",
      "execution_count": null,
      "metadata": {
        "id": "wO58d0UFSwo5"
      },
      "outputs": [],
      "source": [
        "# # Compute confusion_matix of KNeighbors classification\n",
        "# print(confusion_matrix(y_test, y_knn_pred))"
      ]
    },
    {
      "cell_type": "code",
      "execution_count": null,
      "metadata": {
        "id": "6jPcKZ2FSwjB"
      },
      "outputs": [],
      "source": [
        "# # Compute resulting metrix of KNeighbors classification\n",
        "# print(classification_report(y_test, y_knn_pred))"
      ]
    },
    {
      "cell_type": "markdown",
      "metadata": {
        "id": "Iqr7d4o05hp4"
      },
      "source": [
        "## 4.3 RandomForest Classifier"
      ]
    },
    {
      "cell_type": "code",
      "execution_count": null,
      "metadata": {
        "id": "6ZhXK6eJ5f2B"
      },
      "outputs": [],
      "source": [
        "# creating a RF classifier\n",
        "rf = RandomForestClassifier(n_estimators = 100)"
      ]
    },
    {
      "cell_type": "code",
      "execution_count": null,
      "metadata": {
        "id": "KVRdgqM35fyQ"
      },
      "outputs": [],
      "source": [
        "# Training the model on the training dataset\n",
        "# fit function is used to train the model using the training sets as parameters\n",
        "rf.fit(x_train_scaled, y_train)\n",
        "# performing predictions on the test dataset\n",
        "y_rf_pred = rf.predict(x_test_scaled)"
      ]
    },
    {
      "cell_type": "code",
      "execution_count": null,
      "metadata": {
        "id": "ClGIDylw6Dnk",
        "colab": {
          "base_uri": "https://localhost:8080/"
        },
        "outputId": "ce78a1dc-c66b-4a56-88a5-e6066c7cb645"
      },
      "outputs": [
        {
          "output_type": "stream",
          "name": "stdout",
          "text": [
            "ACCURACY OF THE MODEL:  0.9974411528128425\n"
          ]
        }
      ],
      "source": [
        "# using metrics module for accuracy calculation\n",
        "print(\"ACCURACY OF THE MODEL: \", metrics.accuracy_score(y_test, y_rf_pred))"
      ]
    },
    {
      "cell_type": "code",
      "source": [
        "# Compute confusion_matix of KNeighbors classification\n",
        "print(confusion_matrix(y_test, y_rf_pred))"
      ],
      "metadata": {
        "colab": {
          "base_uri": "https://localhost:8080/"
        },
        "id": "6QbLEkkAskTW",
        "outputId": "b6359104-a456-4c6d-8498-8e39a739fdaa"
      },
      "execution_count": null,
      "outputs": [
        {
          "output_type": "stream",
          "name": "stdout",
          "text": [
            "[[553001    573]\n",
            " [   849   1296]]\n"
          ]
        }
      ]
    },
    {
      "cell_type": "code",
      "source": [
        "# Compute resulting metrix of KNeighbors classification\n",
        "print(classification_report(y_test, y_rf_pred))"
      ],
      "metadata": {
        "colab": {
          "base_uri": "https://localhost:8080/"
        },
        "id": "-CUQuRvdskOZ",
        "outputId": "f05ed9e3-1ad5-4237-9c89-c688d4e7e9cb"
      },
      "execution_count": null,
      "outputs": [
        {
          "output_type": "stream",
          "name": "stdout",
          "text": [
            "              precision    recall  f1-score   support\n",
            "\n",
            "           0       1.00      1.00      1.00    553574\n",
            "           1       0.69      0.60      0.65      2145\n",
            "\n",
            "    accuracy                           1.00    555719\n",
            "   macro avg       0.85      0.80      0.82    555719\n",
            "weighted avg       1.00      1.00      1.00    555719\n",
            "\n"
          ]
        }
      ]
    },
    {
      "cell_type": "markdown",
      "source": [
        "## 4.4 DecisionTree Classifier"
      ],
      "metadata": {
        "id": "C4BvUdVVsk4n"
      }
    },
    {
      "cell_type": "code",
      "source": [
        "# Create Decision Tree classifer object\n",
        "dtc = DecisionTreeClassifier()\n",
        "\n",
        "# Train Decision Tree Classifer\n",
        "dtc.fit(x_train_scaled,y_train)\n",
        "\n",
        "#Predict the response for test dataset\n",
        "y_dct_pred = dtc.predict(x_test_scaled)"
      ],
      "metadata": {
        "id": "VCg-WRL7tAfA"
      },
      "execution_count": null,
      "outputs": []
    },
    {
      "cell_type": "code",
      "source": [
        "# Model Accuracy, how often is the classifier correct?\n",
        "print(\"Accuracy:\",metrics.accuracy_score(y_test, y_dct_pred))"
      ],
      "metadata": {
        "colab": {
          "base_uri": "https://localhost:8080/"
        },
        "id": "MHdxj5EWtBM_",
        "outputId": "e7aca4d9-2aa0-46c1-bffc-b5d841c40c3b"
      },
      "execution_count": null,
      "outputs": [
        {
          "output_type": "stream",
          "name": "stdout",
          "text": [
            "Accuracy: 0.9959367953947948\n"
          ]
        }
      ]
    },
    {
      "cell_type": "markdown",
      "source": [
        "In the 3 models above, RandomForest has the highest accuracy of 0.9974---> choose RandomForest as the evaluation model."
      ],
      "metadata": {
        "id": "hD1vmAS9wMgy"
      }
    }
  ],
  "metadata": {
    "colab": {
      "toc_visible": true,
      "provenance": []
    },
    "kernelspec": {
      "display_name": "Python 3",
      "name": "python3"
    },
    "language_info": {
      "name": "python"
    }
  },
  "nbformat": 4,
  "nbformat_minor": 0
}